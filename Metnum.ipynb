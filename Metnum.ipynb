{
  "nbformat": 4,
  "nbformat_minor": 0,
  "metadata": {
    "colab": {
      "name": "Metnum.ipynb",
      "provenance": []
    },
    "kernelspec": {
      "name": "python3",
      "display_name": "Python 3"
    },
    "language_info": {
      "name": "python"
    }
  },
  "cells": [
    {
      "cell_type": "code",
      "metadata": {
        "colab": {
          "base_uri": "https://localhost:8080/"
        },
        "id": "cJLsgeL6fNFK",
        "outputId": "64695132-df26-446c-981c-1b3d1faaec48"
      },
      "source": [
        "#sigma\n",
        "def E(h):\n",
        "  return sum(h)\n",
        "x=[1,2,3,4,5]\n",
        "E(x)\n",
        "E=lambda h:sum(h)\n",
        "def PI(h):\n",
        "    hsl=1\n",
        "    for ex in h:\n",
        "        hsl=hsl * ex\n",
        "    return hsl\n",
        "PI(x)\n",
        "def L(i,hx,x):\n",
        "    n=len(hx)\n",
        "    hl=[]\n",
        "    for j in range (n):\n",
        "      if j!=i:\n",
        "         pb=(x-hx[j])\n",
        "         ps=(hx[i]-hx[j])\n",
        "         hl.append(pb/ps)\n",
        "    return PI(hl)\n",
        "def lagrange( hx,hy,x):\n",
        "    hl=[(hy[i]*L(i,hx,x)) for i in range(len(hx))]\n",
        "    return E(hl)\n",
        "hx=[0,0.4,0.8,1.2]\n",
        "hy=[1,0.921061,0.696,0.362]\n",
        "lagrange(hx,hy,0.4)\n",
        "from math import cos\n",
        "print([cos(x) for x  in hx])\n",
        "print(cos(0.5))\n",
        "print(lagrange(hx,hy,0.5))\n",
        "\n",
        "hx=[x/10 for x in range(11)]\n",
        "print(hx)\n",
        "hy=[cos(x) for x in hx ]\n",
        "print(hy)\n",
        "\n",
        "print(lagrange(hx,hy,0.5))\n",
        "\n",
        "\n"
      ],
      "execution_count": null,
      "outputs": [
        {
          "output_type": "stream",
          "name": "stdout",
          "text": [
            "[1.0, 0.9210609940028851, 0.6967067093471654, 0.3623577544766736]\n",
            "0.8775825618903728\n",
            "0.8770422265625001\n",
            "[0.0, 0.1, 0.2, 0.3, 0.4, 0.5, 0.6, 0.7, 0.8, 0.9, 1.0]\n",
            "[1.0, 0.9950041652780258, 0.9800665778412416, 0.955336489125606, 0.9210609940028851, 0.8775825618903728, 0.8253356149096783, 0.7648421872844885, 0.6967067093471654, 0.6216099682706644, 0.5403023058681398]\n",
            "0.8775825618903728\n"
          ]
        }
      ]
    },
    {
      "cell_type": "code",
      "metadata": {
        "id": "gHFf3HlgOu2N"
      },
      "source": [
        "f=lambda x:2.07944+0.11778*(x-8)-0.00643*(x-8)(*x-9)+0.00041*(x-8)*(x-9)*(x-9.5)\n",
        "xx=[8,9,9,5,11]\n",
        "yy=[2.079442, 2.197225, 2.251292,2.397895]\n",
        "def intpnewton( hx,hy,x):\n",
        "    a=hy[:] # salin himpunan y-> a\n",
        "    n=len(hx)\n",
        "    for i in range(1,n):#hitung a[i] sampai a[i-1]\n",
        "        for j in range(n-1, i-1, -1):#hitung a[n-1] sampai a[1]\n",
        "          a[j]=(a[j]-a[j-1]) / (hx[j] -hx[j-i])\n",
        "    hsl=a[0]\n",
        "    pol=1\n",
        "    for i in range(1,n): \n",
        "        pol=pol * (x-hx[i-1])\n",
        "        hsl = hsl  + pol * a[i] # ((x-hx[1])*(x-hx[2])* (x-hx[3]))\n",
        "    return hsl\n",
        "intpnewton( xx,yy,9)"
      ],
      "execution_count": null,
      "outputs": []
    },
    {
      "cell_type": "code",
      "metadata": {
        "id": "IoviJyiAOxol"
      },
      "source": [
        "f=lambda x:2.07944+0.11778*(x-8)-0.00643*(x-8)(*x-9)+0.00041*(x-8)*(x-9)*(x-9.5)\n",
        "xx=[8,9,9,5,11]\n",
        "yy=[2.079442, 2.197225, 2.251292,2.397895]   \n",
        "\n",
        "def intpnewton(hx,hy,x):\n",
        "    a=hy[:] #menyalin isi array\n",
        "    n=len(hx)\n",
        "    for i in range(1,n): #perhitungan a[1] sampai a[n-1]\n",
        "        for j in range(n-1,i-1,-1): #perhitungan mundur a[n-1] ke a[1]\n",
        "            a[j]=(a[j]-a[j-1])/(hx[j]-hx[j-i])\n",
        "    hsl=a[0]\n",
        "    poly=1\n",
        "    for i in range(1,n):\n",
        "        poly = poly * (x-hx[i-1])\n",
        "        hsl = hsl + poly * a[i]\n",
        "    return hsl"
      ],
      "execution_count": null,
      "outputs": []
    }
  ]
}