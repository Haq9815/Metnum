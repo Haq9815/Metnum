{
  "nbformat": 4,
  "nbformat_minor": 0,
  "metadata": {
    "colab": {
      "name": "Metnum 12/11/21.ipynb",
      "provenance": []
    },
    "kernelspec": {
      "name": "python3",
      "display_name": "Python 3"
    },
    "language_info": {
      "name": "python"
    }
  },
  "cells": [
    {
      "cell_type": "markdown",
      "metadata": {
        "id": "XqgO9VzpgSU7"
      },
      "source": [
        "PDB EULER dan HEUN"
      ]
    },
    {
      "cell_type": "code",
      "metadata": {
        "colab": {
          "base_uri": "https://localhost:8080/"
        },
        "id": "EYnwxmaTgPbd",
        "outputId": "49240b9a-0af7-423d-f8dd-e26e27dce7c3"
      },
      "source": [
        "f= lambda x:-2*x**3 + 12*x*x - 20*x +8.5\n",
        "pdbEuler=lambda ft ,xi,yi,h: yi + ft(xi)* h\n",
        "pdbHeun=lambda ft ,xi,yi,h: yi+h*(ft(xi)+ft(xi+h))/2\n",
        "print(\"pdb euler\")\n",
        "x ,yo, h, xb=0,1,0.5,4\n",
        "while x<=xb:\n",
        "  print(\"%4.2f %8.6f\" % (x,yo))\n",
        "  yo = pdbEuler(f,x,yo,h)\n",
        "  x=x+h\n",
        "\n"
      ],
      "execution_count": 17,
      "outputs": [
        {
          "output_type": "stream",
          "name": "stdout",
          "text": [
            "0.00 1.000000\n",
            "0.50 5.250000\n",
            "1.00 5.875000\n",
            "1.50 5.125000\n",
            "2.00 4.500000\n",
            "2.50 4.750000\n",
            "3.00 5.875000\n",
            "3.50 7.125000\n",
            "4.00 7.000000\n"
          ]
        }
      ]
    },
    {
      "cell_type": "code",
      "metadata": {
        "colab": {
          "base_uri": "https://localhost:8080/"
        },
        "id": "grBwSEYLmH5Y",
        "outputId": "25ed7f52-58ce-4a65-8183-4d4d39c9439b"
      },
      "source": [
        "f= lambda x:-2*x**3 + 12*x*x - 20*x +8.5\n",
        "pdbEuler=lambda ft ,xi,yi,h: yi + ft(xi)* h\n",
        "pdbHeun=lambda ft ,xi,yi,h: yi+h*(ft(xi)+ft(xi+h))/2\n",
        "pdbHeun=lambda ft ,xi,yi,h: yi+ h*(xi+h/2\n",
        "print(\"pdbheun\")\n",
        "x ,yo, h, xb=0,1,0.5,4\n",
        "while x<=xb:\n",
        "  print(\"%4.2f %8.6f\" % (x,yo))\n",
        "  yo = pdbHeun(f,x,yo,h)\n",
        "  x=x+h"
      ],
      "execution_count": 18,
      "outputs": [
        {
          "output_type": "stream",
          "name": "stdout",
          "text": [
            "pdbheun\n",
            "0.00 1.000000\n",
            "0.50 3.437500\n",
            "1.00 3.375000\n",
            "1.50 2.687500\n",
            "2.00 2.500000\n",
            "2.50 3.187500\n",
            "3.00 4.375000\n",
            "3.50 4.937500\n",
            "4.00 3.000000\n"
          ]
        }
      ]
    },
    {
      "cell_type": "code",
      "metadata": {
        "colab": {
          "base_uri": "https://localhost:8080/"
        },
        "id": "ofHuZChCn2Ha",
        "outputId": "cd8cb395-8be4-4d7a-ba84-4fa6fc3c7491"
      },
      "source": [
        "print(\"pdbpolygon\")\n",
        "f= lambda x:-2*x**3 + 12*x*x - 20*x +8.5\n",
        "#pdbPolygon=lambda ft ,xi,yi,h: yi+ h*(xi+h/2)\n",
        "pdbPolygon=lambda ft,xi,yi,h: yi+h*f(xi+h/2)\n",
        "\n",
        "x ,yo, h, xb=0,1,0.5,4\n",
        "while x<=xb:\n",
        "  print(\"%4.2f %8.6f\" % (x,yo))\n",
        "  yo = pdbPolygon(f,x,yo,h)\n",
        "  x=x+h"
      ],
      "execution_count": 21,
      "outputs": [
        {
          "output_type": "stream",
          "name": "stdout",
          "text": [
            "pdbpolygon\n",
            "0.00 1.000000\n",
            "0.50 3.109375\n",
            "1.00 2.812500\n",
            "1.50 1.984375\n",
            "2.00 1.750000\n",
            "2.50 2.484375\n",
            "3.00 3.812500\n",
            "3.50 4.609375\n",
            "4.00 3.000000\n"
          ]
        }
      ]
    },
    {
      "cell_type": "code",
      "metadata": {
        "colab": {
          "base_uri": "https://localhost:8080/"
        },
        "id": "gS3CmUdVp9Yy",
        "outputId": "6ddadd88-5d71-47d1-e691-081e93aa13c6"
      },
      "source": [
        "print(\"pdbraltson\")\n",
        "f= lambda x:-2*x**3 + 12*x*x - 20*x +8.5\n",
        "pdbRaltson=lambda ft,xi,yi,h: yi+h*(f(xi)+2*f(xi+0.75*h))/3\n",
        "\n",
        "x ,yo, h, xb=0,1,0.5,4\n",
        "while x<=xb:\n",
        "  print(\"%4.2f %8.6f\" % (x,yo))\n",
        "  yo = pdbRaltson(f,x,yo,h)\n",
        "  x=x+h"
      ],
      "execution_count": 23,
      "outputs": [
        {
          "output_type": "stream",
          "name": "stdout",
          "text": [
            "pdbraltson\n",
            "0.00 1.000000\n",
            "0.50 3.277344\n",
            "1.00 3.101562\n",
            "1.50 2.347656\n",
            "2.00 2.140625\n",
            "2.50 2.855469\n",
            "3.00 4.117188\n",
            "3.50 4.800781\n",
            "4.00 3.031250\n"
          ]
        }
      ]
    },
    {
      "cell_type": "code",
      "metadata": {
        "colab": {
          "base_uri": "https://localhost:8080/"
        },
        "id": "1xS_zCEUqrxp",
        "outputId": "0e07ed67-5b35-4c21-8f09-d280aaafeff6"
      },
      "source": [
        "print(\"pdb runge kutta 3\")\n",
        "f= lambda x:-2*x**3 + 12*x*x - 20*x +8.5\n",
        "pdbRaltson3=lambda ft,xi,yi,h: yi+h*(f(xi)+4*f(xi+h/2)+f(xi+h))/6\n",
        "\n",
        "x ,yo, h, xb=0,1,0.5,4\n",
        "while x<=xb:\n",
        "  print(\"%4.2f %8.6f\" % (x,yo))\n",
        "  yo = pdbRaltson3(f,x,yo,h)\n",
        "  x=x+h"
      ],
      "execution_count": 27,
      "outputs": [
        {
          "output_type": "stream",
          "name": "stdout",
          "text": [
            "pdb runge kutta 3\n",
            "0.00 1.000000\n",
            "0.50 3.218750\n",
            "1.00 3.000000\n",
            "1.50 2.218750\n",
            "2.00 2.000000\n",
            "2.50 2.718750\n",
            "3.00 4.000000\n",
            "3.50 4.718750\n",
            "4.00 3.000000\n"
          ]
        }
      ]
    }
  ]
}