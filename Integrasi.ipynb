{
  "nbformat": 4,
  "nbformat_minor": 0,
  "metadata": {
    "colab": {
      "name": "Untitled2.ipynb",
      "provenance": []
    },
    "kernelspec": {
      "name": "python3",
      "display_name": "Python 3"
    },
    "language_info": {
      "name": "python"
    }
  },
  "cells": [
    {
      "cell_type": "code",
      "metadata": {
        "colab": {
          "base_uri": "https://localhost:8080/"
        },
        "id": "Ad02V8aIDEMD",
        "outputId": "1334f48b-3964-4d25-a65d-ef750fb647b3"
      },
      "source": [
        "print(\"metode titik tengah \")\n",
        "f=lambda x:(x**3)-(4.5*(x**2))+(4.5*x)\n",
        "titiktengah=lambda f,x,h:h*f(x+h/2)\n",
        "total=0\n",
        "for x in range(15):\n",
        "\n",
        " a=abs(titiktengah(f,x/15,0.2))\n",
        " total+=a\n",
        " print (a)\n",
        "print(\"total: \")\n",
        "print(\"{:.6f}\".format(total))"
      ],
      "execution_count": null,
      "outputs": [
        {
          "output_type": "stream",
          "name": "stdout",
          "text": [
            "metode titik tengah \n",
            "0.08120000000000001\n",
            "0.12592592592592597\n",
            "0.16354074074074076\n",
            "0.19440000000000002\n",
            "0.21885925925925928\n",
            "0.2372740740740741\n",
            "0.25\n",
            "0.25739259259259256\n",
            "0.2598074074074074\n",
            "0.25760000000000005\n",
            "0.2511259259259259\n",
            "0.24074074074074076\n",
            "0.2267999999999999\n",
            "0.20965925925925913\n",
            "0.1896740740740741\n",
            "total: \n",
            "3.164000\n"
          ]
        }
      ]
    },
    {
      "cell_type": "code",
      "metadata": {
        "colab": {
          "base_uri": "https://localhost:8080/"
        },
        "id": "ByE9Ttw0Dwnh",
        "outputId": "486b5e37-86d4-4093-84c0-e33631aff9ed"
      },
      "source": [
        "print(\"metode trapesium\")\n",
        "trapesium=lambda f,x,h:h*(f(x)+f(x+h))/2\n",
        "total=0\n",
        "for x in range(15):\n",
        " a=abs(trapesium(f,x/15,0.2))\n",
        " total+=a\n",
        " print (a)\n",
        "print(\"total: \")\n",
        "print(\"{:.6f}\".format(total))\n"
      ],
      "execution_count": null,
      "outputs": [
        {
          "output_type": "stream",
          "name": "stdout",
          "text": [
            "metode trapesium\n",
            "0.0728\n",
            "0.11792592592592593\n",
            "0.15594074074074077\n",
            "0.1872\n",
            "0.21205925925925928\n",
            "0.23087407407407406\n",
            "0.24399999999999997\n",
            "0.2517925925925926\n",
            "0.25460740740740734\n",
            "0.2527999999999999\n",
            "0.24672592592592593\n",
            "0.23674074074074075\n",
            "0.22319999999999995\n",
            "0.20645925925925923\n",
            "0.18687407407407403\n",
            "total: \n",
            "3.080000\n"
          ]
        }
      ]
    },
    {
      "cell_type": "code",
      "metadata": {
        "colab": {
          "base_uri": "https://localhost:8080/"
        },
        "id": "G64VI4R8EMww",
        "outputId": "67e33ae9-5909-4be9-f05d-f26f7f90cabe"
      },
      "source": [
        "print(\"metode simpson 1/3\")\n",
        "simpson1_3=lambda f,x,h:((h/2)/3)*(f(x)+4*f(x+(h/2))+f(x+h))\n",
        "total=0\n",
        "for x in range(15):\n",
        "  a=abs(simpson1_3(f,x/15,0.2))\n",
        "  total+=a\n",
        "  print (a)\n",
        "print(\"total: \")\n",
        "print(\"{:.6f}\".format(total))\n"
      ],
      "execution_count": null,
      "outputs": [
        {
          "output_type": "stream",
          "name": "stdout",
          "text": [
            "metode simpson 1/3\n",
            "0.07840000000000001\n",
            "0.12325925925925928\n",
            "0.1610074074074074\n",
            "0.192\n",
            "0.2165925925925926\n",
            "0.23514074074074076\n",
            "0.24799999999999997\n",
            "0.2555259259259259\n",
            "0.258074074074074\n",
            "0.256\n",
            "0.24965925925925925\n",
            "0.2394074074074074\n",
            "0.2255999999999999\n",
            "0.20859259259259247\n",
            "0.18874074074074076\n",
            "total: \n",
            "3.136000\n"
          ]
        }
      ]
    },
    {
      "cell_type": "code",
      "metadata": {
        "colab": {
          "base_uri": "https://localhost:8080/"
        },
        "id": "4Uz5JCWYEn5b",
        "outputId": "1bce290e-a46e-4011-b7b5-0281d9cb00c1"
      },
      "source": [
        "print(\"metode simpson 3/8\")\n",
        "simpson38=lambda f,x,h:(h/8)*(f(x)+3*f(x+(h/3))+3*f(x+(2*h)/3)+f(x+h))\n",
        "\n",
        "total=0\n",
        "for x in range(15):\n",
        "  a=abs(simpson38(f,x/15,0.2))\n",
        "  total+=a\n",
        "  print (a)\n",
        "print(\"total: \")\n",
        "print(\"{:.6f}\".format(total))\n"
      ],
      "execution_count": null,
      "outputs": [
        {
          "output_type": "stream",
          "name": "stdout",
          "text": [
            "metode simpson 3/8\n",
            "0.07840000000000001\n",
            "0.12325925925925925\n",
            "0.16100740740740743\n",
            "0.19200000000000003\n",
            "0.2165925925925926\n",
            "0.23514074074074076\n",
            "0.24799999999999997\n",
            "0.2555259259259259\n",
            "0.25807407407407407\n",
            "0.256\n",
            "0.24965925925925936\n",
            "0.23940740740740743\n",
            "0.2256\n",
            "0.20859259259259258\n",
            "0.1887407407407407\n",
            "total: \n",
            "3.136000\n"
          ]
        }
      ]
    }
  ]
}